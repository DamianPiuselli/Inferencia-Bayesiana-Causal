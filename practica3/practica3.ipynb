{
 "cells": [
  {
   "cell_type": "markdown",
   "metadata": {},
   "source": [
    "# Practica 3"
   ]
  },
  {
   "cell_type": "code",
   "execution_count": 1,
   "metadata": {},
   "outputs": [],
   "source": [
    "import numpy as np\n",
    "import matplotlib.pyplot as plt\n",
    "import scipy.stats as st\n",
    "import pandas as pd\n",
    "import seaborn as sns\n",
    "from scipy.integrate import quad"
   ]
  },
  {
   "cell_type": "code",
   "execution_count": 2,
   "metadata": {},
   "outputs": [],
   "source": [
    "plt.rcParams.update(\n",
    "    {\n",
    "        \"grid.color\": \"gray\",\n",
    "        \"grid.linestyle\": \"--\",\n",
    "        \"grid.alpha\": 0.7,\n",
    "        \"axes.facecolor\": \"whitesmoke\",\n",
    "        \"axes.labelsize\": 12,\n",
    "        \"axes.labelweight\": \"bold\",\n",
    "        \"axes.labelcolor\": \"navy\",\n",
    "        \"axes.titlesize\": 14,\n",
    "        \"axes.titleweight\": \"bold\",\n",
    "        \"axes.titlecolor\": \"navy\",\n",
    "        \"xtick.color\": \"black\",\n",
    "        \"ytick.color\": \"black\",\n",
    "        \"legend.fontsize\": 10,\n",
    "        \"legend.frameon\": False,\n",
    "        \"figure.autolayout\": True,\n",
    "    }\n",
    ")"
   ]
  },
  {
   "cell_type": "markdown",
   "metadata": {},
   "source": [
    "## 1. La estructura de la funcion de costo epistemica"
   ]
  },
  {
   "cell_type": "markdown",
   "metadata": {},
   "source": [
    "$$ P(\\text{Hipotesis, Datos }= \\{d_1,d_2, ...\\}) = P(\\text{Hipotesis}) P(d_1|\\text{Hipotesis}) P(d_2|d_1\\text{Hipotesis}) ... $$"
   ]
  },
  {
   "cell_type": "markdown",
   "metadata": {},
   "source": [
    "* Variables del problema de apuestas.\n",
    "\n",
    "Recompensas: \n",
    "$$ Q_c = 3, Q_s= 1,2$$\n",
    "\n",
    "Proporcion de las apuestas:\n",
    "$$ B_c = b \\text{ y } B_s = 1-b$$\n",
    "\n",
    "\n"
   ]
  },
  {
   "cell_type": "markdown",
   "metadata": {},
   "source": [
    "### 1.1 Calcular la esperanza de los recursos en los primeros dos pasos temporales"
   ]
  },
  {
   "cell_type": "code",
   "execution_count": null,
   "metadata": {},
   "outputs": [],
   "source": []
  }
 ],
 "metadata": {
  "kernelspec": {
   "display_name": "base",
   "language": "python",
   "name": "python3"
  },
  "language_info": {
   "codemirror_mode": {
    "name": "ipython",
    "version": 3
   },
   "file_extension": ".py",
   "mimetype": "text/x-python",
   "name": "python",
   "nbconvert_exporter": "python",
   "pygments_lexer": "ipython3",
   "version": "3.11.5"
  }
 },
 "nbformat": 4,
 "nbformat_minor": 2
}
